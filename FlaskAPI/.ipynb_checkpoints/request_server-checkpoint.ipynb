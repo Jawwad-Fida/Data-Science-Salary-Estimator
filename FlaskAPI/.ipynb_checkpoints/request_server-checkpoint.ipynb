{
 "cells": [
  {
   "cell_type": "code",
   "execution_count": 1,
   "id": "ccaabb7c",
   "metadata": {},
   "outputs": [],
   "source": [
    "import requests\n",
    "from data_input import data_in # import the array\n",
    "\n",
    "URL = 'http://127.0.0.1:5000/predict'\n",
    "headers = {\"Content-Type\": \"application/json\"} # params\n",
    "data = {\"input\": data_in} # make it a dictionary and send it via json\n",
    "\n",
    "# json structure is similar to python dictionary\n",
    "\n",
    "r = requests.get(URL,headers=headers, json=data)"
   ]
  },
  {
   "cell_type": "code",
   "execution_count": 2,
   "id": "3cf04203",
   "metadata": {},
   "outputs": [
    {
     "data": {
      "text/plain": [
       "{'response': 116.82407407407408}"
      ]
     },
     "execution_count": 2,
     "metadata": {},
     "output_type": "execute_result"
    }
   ],
   "source": [
    "r.json()"
   ]
  }
 ],
 "metadata": {
  "kernelspec": {
   "display_name": "Python 3 (ipykernel)",
   "language": "python",
   "name": "python3"
  },
  "language_info": {
   "codemirror_mode": {
    "name": "ipython",
    "version": 3
   },
   "file_extension": ".py",
   "mimetype": "text/x-python",
   "name": "python",
   "nbconvert_exporter": "python",
   "pygments_lexer": "ipython3",
   "version": "3.9.7"
  }
 },
 "nbformat": 4,
 "nbformat_minor": 5
}
