{
 "cells": [
  {
   "cell_type": "code",
   "execution_count": null,
   "id": "dfb56709",
   "metadata": {
    "id": "dfb56709"
   },
   "outputs": [],
   "source": [
    "%matplotlib inline\n",
    "import pandas as pd\n",
    "import matplotlib.pyplot as plt\n",
    "import numpy as np\n",
    "import seaborn as sns"
   ]
  },
  {
   "cell_type": "markdown",
   "id": "459d6e36",
   "metadata": {
    "id": "459d6e36"
   },
   "source": [
    "## Things to do:\n",
    "\n",
    "* choose relevant columns\n",
    "* get dummy data\n",
    "* train test split\n",
    "* multiple linear regression\n",
    "* lasso regression\n",
    "* random forest \n",
    "* Tune Models with RandomizedSearchCV\n",
    "* test ensembles\n"
   ]
  },
  {
   "cell_type": "code",
   "execution_count": null,
   "id": "e116c2f9",
   "metadata": {
    "id": "e116c2f9"
   },
   "outputs": [],
   "source": [
    "df = pd.read_csv('eda_data.csv')"
   ]
  },
  {
   "cell_type": "markdown",
   "id": "dcbd13ab",
   "metadata": {
    "id": "dcbd13ab"
   },
   "source": [
    "## Choose relevant columns"
   ]
  },
  {
   "cell_type": "code",
   "execution_count": null,
   "id": "7449fea5",
   "metadata": {
    "colab": {
     "base_uri": "https://localhost:8080/"
    },
    "id": "7449fea5",
    "outputId": "219efb48-c6d9-4cc5-ae8b-2fe127f90be4"
   },
   "outputs": [
    {
     "data": {
      "text/plain": [
       "Index(['Job Title', 'Salary Estimate', 'Job Description', 'Rating',\n",
       "       'Company Name', 'Location', 'Headquarters', 'Size', 'Founded',\n",
       "       'Type of ownership', 'Industry', 'Sector', 'Revenue', 'Competitors',\n",
       "       'hourly', 'employer provided', 'min_salary', 'max_salary', 'avg_salary',\n",
       "       'company_txt', 'job_state', 'same_state', 'age', 'python_yn', 'r_yn',\n",
       "       'spark', 'aws', 'excel', 'job_simp', 'seniority', 'desc_len',\n",
       "       'num_comp'],\n",
       "      dtype='object')"
      ]
     },
     "execution_count": 3,
     "metadata": {},
     "output_type": "execute_result"
    }
   ],
   "source": [
    "df.columns"
   ]
  },
  {
   "cell_type": "code",
   "execution_count": null,
   "id": "57988468",
   "metadata": {
    "id": "57988468"
   },
   "outputs": [],
   "source": [
    "df_model = df[['avg_salary','Rating','Size','Type of ownership','Industry','Sector','Revenue','num_comp','hourly','employer provided',\n",
    "             'job_state','same_state','age','python_yn','spark','aws','excel','job_simp','seniority','desc_len']]"
   ]
  },
  {
   "cell_type": "markdown",
   "id": "42aa87c4",
   "metadata": {
    "id": "42aa87c4"
   },
   "source": [
    "## Get dummy data for the categorical variables"
   ]
  },
  {
   "cell_type": "code",
   "execution_count": null,
   "id": "8ddfc276",
   "metadata": {
    "colab": {
     "base_uri": "https://localhost:8080/",
     "height": 487
    },
    "id": "8ddfc276",
    "outputId": "656809ec-90d7-4e6c-a483-47d6f1db3c1e"
   },
   "outputs": [
    {
     "data": {
      "text/html": [
       "<div>\n",
       "<style scoped>\n",
       "    .dataframe tbody tr th:only-of-type {\n",
       "        vertical-align: middle;\n",
       "    }\n",
       "\n",
       "    .dataframe tbody tr th {\n",
       "        vertical-align: top;\n",
       "    }\n",
       "\n",
       "    .dataframe thead th {\n",
       "        text-align: right;\n",
       "    }\n",
       "</style>\n",
       "<table border=\"1\" class=\"dataframe\">\n",
       "  <thead>\n",
       "    <tr style=\"text-align: right;\">\n",
       "      <th></th>\n",
       "      <th>avg_salary</th>\n",
       "      <th>Rating</th>\n",
       "      <th>num_comp</th>\n",
       "      <th>hourly</th>\n",
       "      <th>employer provided</th>\n",
       "      <th>same_state</th>\n",
       "      <th>age</th>\n",
       "      <th>python_yn</th>\n",
       "      <th>spark</th>\n",
       "      <th>aws</th>\n",
       "      <th>excel</th>\n",
       "      <th>desc_len</th>\n",
       "      <th>Size_-1</th>\n",
       "      <th>Size_1 to 50 employees</th>\n",
       "      <th>Size_10000+ employees</th>\n",
       "      <th>Size_1001 to 5000 employees</th>\n",
       "      <th>Size_201 to 500 employees</th>\n",
       "      <th>Size_5001 to 10000 employees</th>\n",
       "      <th>Size_501 to 1000 employees</th>\n",
       "      <th>Size_51 to 200 employees</th>\n",
       "      <th>Size_Unknown</th>\n",
       "      <th>Type of ownership_-1</th>\n",
       "      <th>Type of ownership_College / University</th>\n",
       "      <th>Type of ownership_Company - Private</th>\n",
       "      <th>Type of ownership_Company - Public</th>\n",
       "      <th>Type of ownership_Government</th>\n",
       "      <th>Type of ownership_Hospital</th>\n",
       "      <th>Type of ownership_Nonprofit Organization</th>\n",
       "      <th>Type of ownership_Other Organization</th>\n",
       "      <th>Type of ownership_School / School District</th>\n",
       "      <th>Type of ownership_Subsidiary or Business Segment</th>\n",
       "      <th>Type of ownership_Unknown</th>\n",
       "      <th>Industry_-1</th>\n",
       "      <th>Industry_Accounting</th>\n",
       "      <th>Industry_Advertising &amp; Marketing</th>\n",
       "      <th>Industry_Aerospace &amp; Defense</th>\n",
       "      <th>Industry_Architectural &amp; Engineering Services</th>\n",
       "      <th>Industry_Auctions &amp; Galleries</th>\n",
       "      <th>Industry_Banks &amp; Credit Unions</th>\n",
       "      <th>Industry_Beauty &amp; Personal Accessories Stores</th>\n",
       "      <th>...</th>\n",
       "      <th>job_state_FL</th>\n",
       "      <th>job_state_GA</th>\n",
       "      <th>job_state_IA</th>\n",
       "      <th>job_state_ID</th>\n",
       "      <th>job_state_IL</th>\n",
       "      <th>job_state_IN</th>\n",
       "      <th>job_state_KS</th>\n",
       "      <th>job_state_KY</th>\n",
       "      <th>job_state_LA</th>\n",
       "      <th>job_state_MA</th>\n",
       "      <th>job_state_MD</th>\n",
       "      <th>job_state_MI</th>\n",
       "      <th>job_state_MN</th>\n",
       "      <th>job_state_MO</th>\n",
       "      <th>job_state_NC</th>\n",
       "      <th>job_state_NE</th>\n",
       "      <th>job_state_NJ</th>\n",
       "      <th>job_state_NM</th>\n",
       "      <th>job_state_NY</th>\n",
       "      <th>job_state_OH</th>\n",
       "      <th>job_state_OR</th>\n",
       "      <th>job_state_PA</th>\n",
       "      <th>job_state_RI</th>\n",
       "      <th>job_state_SC</th>\n",
       "      <th>job_state_TN</th>\n",
       "      <th>job_state_TX</th>\n",
       "      <th>job_state_UT</th>\n",
       "      <th>job_state_VA</th>\n",
       "      <th>job_state_WA</th>\n",
       "      <th>job_state_WI</th>\n",
       "      <th>job_simp_analyst</th>\n",
       "      <th>job_simp_data engineer</th>\n",
       "      <th>job_simp_data scientist</th>\n",
       "      <th>job_simp_director</th>\n",
       "      <th>job_simp_manager</th>\n",
       "      <th>job_simp_mle</th>\n",
       "      <th>job_simp_na</th>\n",
       "      <th>seniority_jr</th>\n",
       "      <th>seniority_na</th>\n",
       "      <th>seniority_senior</th>\n",
       "    </tr>\n",
       "  </thead>\n",
       "  <tbody>\n",
       "    <tr>\n",
       "      <th>0</th>\n",
       "      <td>72.0</td>\n",
       "      <td>3.8</td>\n",
       "      <td>1</td>\n",
       "      <td>0</td>\n",
       "      <td>0</td>\n",
       "      <td>0</td>\n",
       "      <td>48</td>\n",
       "      <td>1</td>\n",
       "      <td>0</td>\n",
       "      <td>0</td>\n",
       "      <td>1</td>\n",
       "      <td>2536</td>\n",
       "      <td>0</td>\n",
       "      <td>0</td>\n",
       "      <td>0</td>\n",
       "      <td>0</td>\n",
       "      <td>0</td>\n",
       "      <td>0</td>\n",
       "      <td>1</td>\n",
       "      <td>0</td>\n",
       "      <td>0</td>\n",
       "      <td>0</td>\n",
       "      <td>0</td>\n",
       "      <td>1</td>\n",
       "      <td>0</td>\n",
       "      <td>0</td>\n",
       "      <td>0</td>\n",
       "      <td>0</td>\n",
       "      <td>0</td>\n",
       "      <td>0</td>\n",
       "      <td>0</td>\n",
       "      <td>0</td>\n",
       "      <td>0</td>\n",
       "      <td>0</td>\n",
       "      <td>0</td>\n",
       "      <td>1</td>\n",
       "      <td>0</td>\n",
       "      <td>0</td>\n",
       "      <td>0</td>\n",
       "      <td>0</td>\n",
       "      <td>...</td>\n",
       "      <td>0</td>\n",
       "      <td>0</td>\n",
       "      <td>0</td>\n",
       "      <td>0</td>\n",
       "      <td>0</td>\n",
       "      <td>0</td>\n",
       "      <td>0</td>\n",
       "      <td>0</td>\n",
       "      <td>0</td>\n",
       "      <td>0</td>\n",
       "      <td>0</td>\n",
       "      <td>0</td>\n",
       "      <td>0</td>\n",
       "      <td>0</td>\n",
       "      <td>0</td>\n",
       "      <td>0</td>\n",
       "      <td>0</td>\n",
       "      <td>1</td>\n",
       "      <td>0</td>\n",
       "      <td>0</td>\n",
       "      <td>0</td>\n",
       "      <td>0</td>\n",
       "      <td>0</td>\n",
       "      <td>0</td>\n",
       "      <td>0</td>\n",
       "      <td>0</td>\n",
       "      <td>0</td>\n",
       "      <td>0</td>\n",
       "      <td>0</td>\n",
       "      <td>0</td>\n",
       "      <td>0</td>\n",
       "      <td>0</td>\n",
       "      <td>1</td>\n",
       "      <td>0</td>\n",
       "      <td>0</td>\n",
       "      <td>0</td>\n",
       "      <td>0</td>\n",
       "      <td>0</td>\n",
       "      <td>1</td>\n",
       "      <td>0</td>\n",
       "    </tr>\n",
       "    <tr>\n",
       "      <th>1</th>\n",
       "      <td>87.5</td>\n",
       "      <td>3.4</td>\n",
       "      <td>1</td>\n",
       "      <td>0</td>\n",
       "      <td>0</td>\n",
       "      <td>0</td>\n",
       "      <td>37</td>\n",
       "      <td>1</td>\n",
       "      <td>0</td>\n",
       "      <td>0</td>\n",
       "      <td>0</td>\n",
       "      <td>4783</td>\n",
       "      <td>0</td>\n",
       "      <td>0</td>\n",
       "      <td>1</td>\n",
       "      <td>0</td>\n",
       "      <td>0</td>\n",
       "      <td>0</td>\n",
       "      <td>0</td>\n",
       "      <td>0</td>\n",
       "      <td>0</td>\n",
       "      <td>0</td>\n",
       "      <td>0</td>\n",
       "      <td>0</td>\n",
       "      <td>0</td>\n",
       "      <td>0</td>\n",
       "      <td>0</td>\n",
       "      <td>0</td>\n",
       "      <td>1</td>\n",
       "      <td>0</td>\n",
       "      <td>0</td>\n",
       "      <td>0</td>\n",
       "      <td>0</td>\n",
       "      <td>0</td>\n",
       "      <td>0</td>\n",
       "      <td>0</td>\n",
       "      <td>0</td>\n",
       "      <td>0</td>\n",
       "      <td>0</td>\n",
       "      <td>0</td>\n",
       "      <td>...</td>\n",
       "      <td>0</td>\n",
       "      <td>0</td>\n",
       "      <td>0</td>\n",
       "      <td>0</td>\n",
       "      <td>0</td>\n",
       "      <td>0</td>\n",
       "      <td>0</td>\n",
       "      <td>0</td>\n",
       "      <td>0</td>\n",
       "      <td>0</td>\n",
       "      <td>1</td>\n",
       "      <td>0</td>\n",
       "      <td>0</td>\n",
       "      <td>0</td>\n",
       "      <td>0</td>\n",
       "      <td>0</td>\n",
       "      <td>0</td>\n",
       "      <td>0</td>\n",
       "      <td>0</td>\n",
       "      <td>0</td>\n",
       "      <td>0</td>\n",
       "      <td>0</td>\n",
       "      <td>0</td>\n",
       "      <td>0</td>\n",
       "      <td>0</td>\n",
       "      <td>0</td>\n",
       "      <td>0</td>\n",
       "      <td>0</td>\n",
       "      <td>0</td>\n",
       "      <td>0</td>\n",
       "      <td>0</td>\n",
       "      <td>0</td>\n",
       "      <td>1</td>\n",
       "      <td>0</td>\n",
       "      <td>0</td>\n",
       "      <td>0</td>\n",
       "      <td>0</td>\n",
       "      <td>0</td>\n",
       "      <td>1</td>\n",
       "      <td>0</td>\n",
       "    </tr>\n",
       "    <tr>\n",
       "      <th>2</th>\n",
       "      <td>85.0</td>\n",
       "      <td>4.8</td>\n",
       "      <td>1</td>\n",
       "      <td>0</td>\n",
       "      <td>0</td>\n",
       "      <td>1</td>\n",
       "      <td>11</td>\n",
       "      <td>1</td>\n",
       "      <td>0</td>\n",
       "      <td>0</td>\n",
       "      <td>1</td>\n",
       "      <td>3461</td>\n",
       "      <td>0</td>\n",
       "      <td>0</td>\n",
       "      <td>0</td>\n",
       "      <td>0</td>\n",
       "      <td>0</td>\n",
       "      <td>0</td>\n",
       "      <td>1</td>\n",
       "      <td>0</td>\n",
       "      <td>0</td>\n",
       "      <td>0</td>\n",
       "      <td>0</td>\n",
       "      <td>1</td>\n",
       "      <td>0</td>\n",
       "      <td>0</td>\n",
       "      <td>0</td>\n",
       "      <td>0</td>\n",
       "      <td>0</td>\n",
       "      <td>0</td>\n",
       "      <td>0</td>\n",
       "      <td>0</td>\n",
       "      <td>0</td>\n",
       "      <td>0</td>\n",
       "      <td>0</td>\n",
       "      <td>0</td>\n",
       "      <td>0</td>\n",
       "      <td>0</td>\n",
       "      <td>0</td>\n",
       "      <td>0</td>\n",
       "      <td>...</td>\n",
       "      <td>1</td>\n",
       "      <td>0</td>\n",
       "      <td>0</td>\n",
       "      <td>0</td>\n",
       "      <td>0</td>\n",
       "      <td>0</td>\n",
       "      <td>0</td>\n",
       "      <td>0</td>\n",
       "      <td>0</td>\n",
       "      <td>0</td>\n",
       "      <td>0</td>\n",
       "      <td>0</td>\n",
       "      <td>0</td>\n",
       "      <td>0</td>\n",
       "      <td>0</td>\n",
       "      <td>0</td>\n",
       "      <td>0</td>\n",
       "      <td>0</td>\n",
       "      <td>0</td>\n",
       "      <td>0</td>\n",
       "      <td>0</td>\n",
       "      <td>0</td>\n",
       "      <td>0</td>\n",
       "      <td>0</td>\n",
       "      <td>0</td>\n",
       "      <td>0</td>\n",
       "      <td>0</td>\n",
       "      <td>0</td>\n",
       "      <td>0</td>\n",
       "      <td>0</td>\n",
       "      <td>0</td>\n",
       "      <td>0</td>\n",
       "      <td>1</td>\n",
       "      <td>0</td>\n",
       "      <td>0</td>\n",
       "      <td>0</td>\n",
       "      <td>0</td>\n",
       "      <td>0</td>\n",
       "      <td>1</td>\n",
       "      <td>0</td>\n",
       "    </tr>\n",
       "    <tr>\n",
       "      <th>3</th>\n",
       "      <td>76.5</td>\n",
       "      <td>3.8</td>\n",
       "      <td>3</td>\n",
       "      <td>0</td>\n",
       "      <td>0</td>\n",
       "      <td>1</td>\n",
       "      <td>56</td>\n",
       "      <td>1</td>\n",
       "      <td>0</td>\n",
       "      <td>0</td>\n",
       "      <td>0</td>\n",
       "      <td>3883</td>\n",
       "      <td>0</td>\n",
       "      <td>0</td>\n",
       "      <td>0</td>\n",
       "      <td>1</td>\n",
       "      <td>0</td>\n",
       "      <td>0</td>\n",
       "      <td>0</td>\n",
       "      <td>0</td>\n",
       "      <td>0</td>\n",
       "      <td>0</td>\n",
       "      <td>0</td>\n",
       "      <td>0</td>\n",
       "      <td>0</td>\n",
       "      <td>1</td>\n",
       "      <td>0</td>\n",
       "      <td>0</td>\n",
       "      <td>0</td>\n",
       "      <td>0</td>\n",
       "      <td>0</td>\n",
       "      <td>0</td>\n",
       "      <td>0</td>\n",
       "      <td>0</td>\n",
       "      <td>0</td>\n",
       "      <td>0</td>\n",
       "      <td>0</td>\n",
       "      <td>0</td>\n",
       "      <td>0</td>\n",
       "      <td>0</td>\n",
       "      <td>...</td>\n",
       "      <td>0</td>\n",
       "      <td>0</td>\n",
       "      <td>0</td>\n",
       "      <td>0</td>\n",
       "      <td>0</td>\n",
       "      <td>0</td>\n",
       "      <td>0</td>\n",
       "      <td>0</td>\n",
       "      <td>0</td>\n",
       "      <td>0</td>\n",
       "      <td>0</td>\n",
       "      <td>0</td>\n",
       "      <td>0</td>\n",
       "      <td>0</td>\n",
       "      <td>0</td>\n",
       "      <td>0</td>\n",
       "      <td>0</td>\n",
       "      <td>0</td>\n",
       "      <td>0</td>\n",
       "      <td>0</td>\n",
       "      <td>0</td>\n",
       "      <td>0</td>\n",
       "      <td>0</td>\n",
       "      <td>0</td>\n",
       "      <td>0</td>\n",
       "      <td>0</td>\n",
       "      <td>0</td>\n",
       "      <td>0</td>\n",
       "      <td>1</td>\n",
       "      <td>0</td>\n",
       "      <td>0</td>\n",
       "      <td>0</td>\n",
       "      <td>1</td>\n",
       "      <td>0</td>\n",
       "      <td>0</td>\n",
       "      <td>0</td>\n",
       "      <td>0</td>\n",
       "      <td>0</td>\n",
       "      <td>1</td>\n",
       "      <td>0</td>\n",
       "    </tr>\n",
       "    <tr>\n",
       "      <th>4</th>\n",
       "      <td>114.5</td>\n",
       "      <td>2.9</td>\n",
       "      <td>3</td>\n",
       "      <td>0</td>\n",
       "      <td>0</td>\n",
       "      <td>1</td>\n",
       "      <td>23</td>\n",
       "      <td>1</td>\n",
       "      <td>0</td>\n",
       "      <td>0</td>\n",
       "      <td>1</td>\n",
       "      <td>2728</td>\n",
       "      <td>0</td>\n",
       "      <td>0</td>\n",
       "      <td>0</td>\n",
       "      <td>0</td>\n",
       "      <td>0</td>\n",
       "      <td>0</td>\n",
       "      <td>0</td>\n",
       "      <td>1</td>\n",
       "      <td>0</td>\n",
       "      <td>0</td>\n",
       "      <td>0</td>\n",
       "      <td>1</td>\n",
       "      <td>0</td>\n",
       "      <td>0</td>\n",
       "      <td>0</td>\n",
       "      <td>0</td>\n",
       "      <td>0</td>\n",
       "      <td>0</td>\n",
       "      <td>0</td>\n",
       "      <td>0</td>\n",
       "      <td>0</td>\n",
       "      <td>0</td>\n",
       "      <td>1</td>\n",
       "      <td>0</td>\n",
       "      <td>0</td>\n",
       "      <td>0</td>\n",
       "      <td>0</td>\n",
       "      <td>0</td>\n",
       "      <td>...</td>\n",
       "      <td>0</td>\n",
       "      <td>0</td>\n",
       "      <td>0</td>\n",
       "      <td>0</td>\n",
       "      <td>0</td>\n",
       "      <td>0</td>\n",
       "      <td>0</td>\n",
       "      <td>0</td>\n",
       "      <td>0</td>\n",
       "      <td>0</td>\n",
       "      <td>0</td>\n",
       "      <td>0</td>\n",
       "      <td>0</td>\n",
       "      <td>0</td>\n",
       "      <td>0</td>\n",
       "      <td>0</td>\n",
       "      <td>0</td>\n",
       "      <td>0</td>\n",
       "      <td>1</td>\n",
       "      <td>0</td>\n",
       "      <td>0</td>\n",
       "      <td>0</td>\n",
       "      <td>0</td>\n",
       "      <td>0</td>\n",
       "      <td>0</td>\n",
       "      <td>0</td>\n",
       "      <td>0</td>\n",
       "      <td>0</td>\n",
       "      <td>0</td>\n",
       "      <td>0</td>\n",
       "      <td>0</td>\n",
       "      <td>0</td>\n",
       "      <td>1</td>\n",
       "      <td>0</td>\n",
       "      <td>0</td>\n",
       "      <td>0</td>\n",
       "      <td>0</td>\n",
       "      <td>0</td>\n",
       "      <td>1</td>\n",
       "      <td>0</td>\n",
       "    </tr>\n",
       "    <tr>\n",
       "      <th>...</th>\n",
       "      <td>...</td>\n",
       "      <td>...</td>\n",
       "      <td>...</td>\n",
       "      <td>...</td>\n",
       "      <td>...</td>\n",
       "      <td>...</td>\n",
       "      <td>...</td>\n",
       "      <td>...</td>\n",
       "      <td>...</td>\n",
       "      <td>...</td>\n",
       "      <td>...</td>\n",
       "      <td>...</td>\n",
       "      <td>...</td>\n",
       "      <td>...</td>\n",
       "      <td>...</td>\n",
       "      <td>...</td>\n",
       "      <td>...</td>\n",
       "      <td>...</td>\n",
       "      <td>...</td>\n",
       "      <td>...</td>\n",
       "      <td>...</td>\n",
       "      <td>...</td>\n",
       "      <td>...</td>\n",
       "      <td>...</td>\n",
       "      <td>...</td>\n",
       "      <td>...</td>\n",
       "      <td>...</td>\n",
       "      <td>...</td>\n",
       "      <td>...</td>\n",
       "      <td>...</td>\n",
       "      <td>...</td>\n",
       "      <td>...</td>\n",
       "      <td>...</td>\n",
       "      <td>...</td>\n",
       "      <td>...</td>\n",
       "      <td>...</td>\n",
       "      <td>...</td>\n",
       "      <td>...</td>\n",
       "      <td>...</td>\n",
       "      <td>...</td>\n",
       "      <td>...</td>\n",
       "      <td>...</td>\n",
       "      <td>...</td>\n",
       "      <td>...</td>\n",
       "      <td>...</td>\n",
       "      <td>...</td>\n",
       "      <td>...</td>\n",
       "      <td>...</td>\n",
       "      <td>...</td>\n",
       "      <td>...</td>\n",
       "      <td>...</td>\n",
       "      <td>...</td>\n",
       "      <td>...</td>\n",
       "      <td>...</td>\n",
       "      <td>...</td>\n",
       "      <td>...</td>\n",
       "      <td>...</td>\n",
       "      <td>...</td>\n",
       "      <td>...</td>\n",
       "      <td>...</td>\n",
       "      <td>...</td>\n",
       "      <td>...</td>\n",
       "      <td>...</td>\n",
       "      <td>...</td>\n",
       "      <td>...</td>\n",
       "      <td>...</td>\n",
       "      <td>...</td>\n",
       "      <td>...</td>\n",
       "      <td>...</td>\n",
       "      <td>...</td>\n",
       "      <td>...</td>\n",
       "      <td>...</td>\n",
       "      <td>...</td>\n",
       "      <td>...</td>\n",
       "      <td>...</td>\n",
       "      <td>...</td>\n",
       "      <td>...</td>\n",
       "      <td>...</td>\n",
       "      <td>...</td>\n",
       "      <td>...</td>\n",
       "      <td>...</td>\n",
       "    </tr>\n",
       "    <tr>\n",
       "      <th>737</th>\n",
       "      <td>84.5</td>\n",
       "      <td>3.9</td>\n",
       "      <td>3</td>\n",
       "      <td>0</td>\n",
       "      <td>0</td>\n",
       "      <td>0</td>\n",
       "      <td>191</td>\n",
       "      <td>0</td>\n",
       "      <td>0</td>\n",
       "      <td>1</td>\n",
       "      <td>0</td>\n",
       "      <td>6162</td>\n",
       "      <td>0</td>\n",
       "      <td>0</td>\n",
       "      <td>1</td>\n",
       "      <td>0</td>\n",
       "      <td>0</td>\n",
       "      <td>0</td>\n",
       "      <td>0</td>\n",
       "      <td>0</td>\n",
       "      <td>0</td>\n",
       "      <td>0</td>\n",
       "      <td>0</td>\n",
       "      <td>0</td>\n",
       "      <td>1</td>\n",
       "      <td>0</td>\n",
       "      <td>0</td>\n",
       "      <td>0</td>\n",
       "      <td>0</td>\n",
       "      <td>0</td>\n",
       "      <td>0</td>\n",
       "      <td>0</td>\n",
       "      <td>0</td>\n",
       "      <td>0</td>\n",
       "      <td>0</td>\n",
       "      <td>0</td>\n",
       "      <td>0</td>\n",
       "      <td>0</td>\n",
       "      <td>0</td>\n",
       "      <td>0</td>\n",
       "      <td>...</td>\n",
       "      <td>0</td>\n",
       "      <td>0</td>\n",
       "      <td>0</td>\n",
       "      <td>0</td>\n",
       "      <td>0</td>\n",
       "      <td>0</td>\n",
       "      <td>0</td>\n",
       "      <td>0</td>\n",
       "      <td>0</td>\n",
       "      <td>1</td>\n",
       "      <td>0</td>\n",
       "      <td>0</td>\n",
       "      <td>0</td>\n",
       "      <td>0</td>\n",
       "      <td>0</td>\n",
       "      <td>0</td>\n",
       "      <td>0</td>\n",
       "      <td>0</td>\n",
       "      <td>0</td>\n",
       "      <td>0</td>\n",
       "      <td>0</td>\n",
       "      <td>0</td>\n",
       "      <td>0</td>\n",
       "      <td>0</td>\n",
       "      <td>0</td>\n",
       "      <td>0</td>\n",
       "      <td>0</td>\n",
       "      <td>0</td>\n",
       "      <td>0</td>\n",
       "      <td>0</td>\n",
       "      <td>0</td>\n",
       "      <td>0</td>\n",
       "      <td>0</td>\n",
       "      <td>0</td>\n",
       "      <td>0</td>\n",
       "      <td>0</td>\n",
       "      <td>1</td>\n",
       "      <td>0</td>\n",
       "      <td>0</td>\n",
       "      <td>1</td>\n",
       "    </tr>\n",
       "    <tr>\n",
       "      <th>738</th>\n",
       "      <td>102.5</td>\n",
       "      <td>4.4</td>\n",
       "      <td>3</td>\n",
       "      <td>0</td>\n",
       "      <td>0</td>\n",
       "      <td>0</td>\n",
       "      <td>15</td>\n",
       "      <td>1</td>\n",
       "      <td>0</td>\n",
       "      <td>1</td>\n",
       "      <td>0</td>\n",
       "      <td>6130</td>\n",
       "      <td>0</td>\n",
       "      <td>0</td>\n",
       "      <td>0</td>\n",
       "      <td>1</td>\n",
       "      <td>0</td>\n",
       "      <td>0</td>\n",
       "      <td>0</td>\n",
       "      <td>0</td>\n",
       "      <td>0</td>\n",
       "      <td>0</td>\n",
       "      <td>0</td>\n",
       "      <td>0</td>\n",
       "      <td>1</td>\n",
       "      <td>0</td>\n",
       "      <td>0</td>\n",
       "      <td>0</td>\n",
       "      <td>0</td>\n",
       "      <td>0</td>\n",
       "      <td>0</td>\n",
       "      <td>0</td>\n",
       "      <td>0</td>\n",
       "      <td>0</td>\n",
       "      <td>0</td>\n",
       "      <td>0</td>\n",
       "      <td>0</td>\n",
       "      <td>0</td>\n",
       "      <td>0</td>\n",
       "      <td>0</td>\n",
       "      <td>...</td>\n",
       "      <td>0</td>\n",
       "      <td>0</td>\n",
       "      <td>0</td>\n",
       "      <td>0</td>\n",
       "      <td>0</td>\n",
       "      <td>0</td>\n",
       "      <td>0</td>\n",
       "      <td>0</td>\n",
       "      <td>0</td>\n",
       "      <td>0</td>\n",
       "      <td>0</td>\n",
       "      <td>0</td>\n",
       "      <td>0</td>\n",
       "      <td>0</td>\n",
       "      <td>0</td>\n",
       "      <td>0</td>\n",
       "      <td>0</td>\n",
       "      <td>0</td>\n",
       "      <td>0</td>\n",
       "      <td>0</td>\n",
       "      <td>0</td>\n",
       "      <td>0</td>\n",
       "      <td>0</td>\n",
       "      <td>0</td>\n",
       "      <td>1</td>\n",
       "      <td>0</td>\n",
       "      <td>0</td>\n",
       "      <td>0</td>\n",
       "      <td>0</td>\n",
       "      <td>0</td>\n",
       "      <td>0</td>\n",
       "      <td>1</td>\n",
       "      <td>0</td>\n",
       "      <td>0</td>\n",
       "      <td>0</td>\n",
       "      <td>0</td>\n",
       "      <td>0</td>\n",
       "      <td>0</td>\n",
       "      <td>0</td>\n",
       "      <td>1</td>\n",
       "    </tr>\n",
       "    <tr>\n",
       "      <th>739</th>\n",
       "      <td>73.5</td>\n",
       "      <td>2.6</td>\n",
       "      <td>1</td>\n",
       "      <td>0</td>\n",
       "      <td>0</td>\n",
       "      <td>1</td>\n",
       "      <td>37</td>\n",
       "      <td>0</td>\n",
       "      <td>0</td>\n",
       "      <td>0</td>\n",
       "      <td>1</td>\n",
       "      <td>3078</td>\n",
       "      <td>0</td>\n",
       "      <td>0</td>\n",
       "      <td>0</td>\n",
       "      <td>0</td>\n",
       "      <td>0</td>\n",
       "      <td>0</td>\n",
       "      <td>1</td>\n",
       "      <td>0</td>\n",
       "      <td>0</td>\n",
       "      <td>0</td>\n",
       "      <td>1</td>\n",
       "      <td>0</td>\n",
       "      <td>0</td>\n",
       "      <td>0</td>\n",
       "      <td>0</td>\n",
       "      <td>0</td>\n",
       "      <td>0</td>\n",
       "      <td>0</td>\n",
       "      <td>0</td>\n",
       "      <td>0</td>\n",
       "      <td>0</td>\n",
       "      <td>0</td>\n",
       "      <td>0</td>\n",
       "      <td>0</td>\n",
       "      <td>0</td>\n",
       "      <td>0</td>\n",
       "      <td>0</td>\n",
       "      <td>0</td>\n",
       "      <td>...</td>\n",
       "      <td>0</td>\n",
       "      <td>0</td>\n",
       "      <td>0</td>\n",
       "      <td>0</td>\n",
       "      <td>0</td>\n",
       "      <td>0</td>\n",
       "      <td>0</td>\n",
       "      <td>0</td>\n",
       "      <td>0</td>\n",
       "      <td>0</td>\n",
       "      <td>0</td>\n",
       "      <td>0</td>\n",
       "      <td>0</td>\n",
       "      <td>0</td>\n",
       "      <td>0</td>\n",
       "      <td>0</td>\n",
       "      <td>0</td>\n",
       "      <td>0</td>\n",
       "      <td>0</td>\n",
       "      <td>0</td>\n",
       "      <td>0</td>\n",
       "      <td>1</td>\n",
       "      <td>0</td>\n",
       "      <td>0</td>\n",
       "      <td>0</td>\n",
       "      <td>0</td>\n",
       "      <td>0</td>\n",
       "      <td>0</td>\n",
       "      <td>0</td>\n",
       "      <td>0</td>\n",
       "      <td>0</td>\n",
       "      <td>0</td>\n",
       "      <td>0</td>\n",
       "      <td>0</td>\n",
       "      <td>0</td>\n",
       "      <td>0</td>\n",
       "      <td>1</td>\n",
       "      <td>0</td>\n",
       "      <td>1</td>\n",
       "      <td>0</td>\n",
       "    </tr>\n",
       "    <tr>\n",
       "      <th>740</th>\n",
       "      <td>127.5</td>\n",
       "      <td>3.2</td>\n",
       "      <td>1</td>\n",
       "      <td>0</td>\n",
       "      <td>0</td>\n",
       "      <td>0</td>\n",
       "      <td>-1</td>\n",
       "      <td>0</td>\n",
       "      <td>0</td>\n",
       "      <td>0</td>\n",
       "      <td>1</td>\n",
       "      <td>1642</td>\n",
       "      <td>0</td>\n",
       "      <td>1</td>\n",
       "      <td>0</td>\n",
       "      <td>0</td>\n",
       "      <td>0</td>\n",
       "      <td>0</td>\n",
       "      <td>0</td>\n",
       "      <td>0</td>\n",
       "      <td>0</td>\n",
       "      <td>0</td>\n",
       "      <td>0</td>\n",
       "      <td>1</td>\n",
       "      <td>0</td>\n",
       "      <td>0</td>\n",
       "      <td>0</td>\n",
       "      <td>0</td>\n",
       "      <td>0</td>\n",
       "      <td>0</td>\n",
       "      <td>0</td>\n",
       "      <td>0</td>\n",
       "      <td>0</td>\n",
       "      <td>0</td>\n",
       "      <td>0</td>\n",
       "      <td>0</td>\n",
       "      <td>0</td>\n",
       "      <td>0</td>\n",
       "      <td>0</td>\n",
       "      <td>0</td>\n",
       "      <td>...</td>\n",
       "      <td>0</td>\n",
       "      <td>0</td>\n",
       "      <td>0</td>\n",
       "      <td>0</td>\n",
       "      <td>0</td>\n",
       "      <td>0</td>\n",
       "      <td>0</td>\n",
       "      <td>0</td>\n",
       "      <td>0</td>\n",
       "      <td>0</td>\n",
       "      <td>0</td>\n",
       "      <td>0</td>\n",
       "      <td>0</td>\n",
       "      <td>0</td>\n",
       "      <td>0</td>\n",
       "      <td>0</td>\n",
       "      <td>0</td>\n",
       "      <td>0</td>\n",
       "      <td>0</td>\n",
       "      <td>0</td>\n",
       "      <td>0</td>\n",
       "      <td>1</td>\n",
       "      <td>0</td>\n",
       "      <td>0</td>\n",
       "      <td>0</td>\n",
       "      <td>0</td>\n",
       "      <td>0</td>\n",
       "      <td>0</td>\n",
       "      <td>0</td>\n",
       "      <td>0</td>\n",
       "      <td>0</td>\n",
       "      <td>0</td>\n",
       "      <td>0</td>\n",
       "      <td>0</td>\n",
       "      <td>1</td>\n",
       "      <td>0</td>\n",
       "      <td>0</td>\n",
       "      <td>0</td>\n",
       "      <td>1</td>\n",
       "      <td>0</td>\n",
       "    </tr>\n",
       "    <tr>\n",
       "      <th>741</th>\n",
       "      <td>93.5</td>\n",
       "      <td>3.6</td>\n",
       "      <td>1</td>\n",
       "      <td>0</td>\n",
       "      <td>0</td>\n",
       "      <td>0</td>\n",
       "      <td>54</td>\n",
       "      <td>1</td>\n",
       "      <td>0</td>\n",
       "      <td>0</td>\n",
       "      <td>0</td>\n",
       "      <td>3673</td>\n",
       "      <td>0</td>\n",
       "      <td>0</td>\n",
       "      <td>0</td>\n",
       "      <td>0</td>\n",
       "      <td>0</td>\n",
       "      <td>0</td>\n",
       "      <td>1</td>\n",
       "      <td>0</td>\n",
       "      <td>0</td>\n",
       "      <td>0</td>\n",
       "      <td>0</td>\n",
       "      <td>0</td>\n",
       "      <td>0</td>\n",
       "      <td>0</td>\n",
       "      <td>0</td>\n",
       "      <td>1</td>\n",
       "      <td>0</td>\n",
       "      <td>0</td>\n",
       "      <td>0</td>\n",
       "      <td>0</td>\n",
       "      <td>0</td>\n",
       "      <td>0</td>\n",
       "      <td>0</td>\n",
       "      <td>0</td>\n",
       "      <td>0</td>\n",
       "      <td>0</td>\n",
       "      <td>0</td>\n",
       "      <td>0</td>\n",
       "      <td>...</td>\n",
       "      <td>0</td>\n",
       "      <td>0</td>\n",
       "      <td>0</td>\n",
       "      <td>0</td>\n",
       "      <td>0</td>\n",
       "      <td>0</td>\n",
       "      <td>0</td>\n",
       "      <td>0</td>\n",
       "      <td>0</td>\n",
       "      <td>0</td>\n",
       "      <td>0</td>\n",
       "      <td>0</td>\n",
       "      <td>0</td>\n",
       "      <td>0</td>\n",
       "      <td>0</td>\n",
       "      <td>0</td>\n",
       "      <td>0</td>\n",
       "      <td>0</td>\n",
       "      <td>0</td>\n",
       "      <td>1</td>\n",
       "      <td>0</td>\n",
       "      <td>0</td>\n",
       "      <td>0</td>\n",
       "      <td>0</td>\n",
       "      <td>0</td>\n",
       "      <td>0</td>\n",
       "      <td>0</td>\n",
       "      <td>0</td>\n",
       "      <td>0</td>\n",
       "      <td>0</td>\n",
       "      <td>0</td>\n",
       "      <td>0</td>\n",
       "      <td>0</td>\n",
       "      <td>0</td>\n",
       "      <td>0</td>\n",
       "      <td>0</td>\n",
       "      <td>1</td>\n",
       "      <td>0</td>\n",
       "      <td>1</td>\n",
       "      <td>0</td>\n",
       "    </tr>\n",
       "  </tbody>\n",
       "</table>\n",
       "<p>742 rows × 178 columns</p>\n",
       "</div>"
      ],
      "text/plain": [
       "     avg_salary  Rating  num_comp  ...  seniority_jr  seniority_na  seniority_senior\n",
       "0          72.0     3.8         1  ...             0             1                 0\n",
       "1          87.5     3.4         1  ...             0             1                 0\n",
       "2          85.0     4.8         1  ...             0             1                 0\n",
       "3          76.5     3.8         3  ...             0             1                 0\n",
       "4         114.5     2.9         3  ...             0             1                 0\n",
       "..          ...     ...       ...  ...           ...           ...               ...\n",
       "737        84.5     3.9         3  ...             0             0                 1\n",
       "738       102.5     4.4         3  ...             0             0                 1\n",
       "739        73.5     2.6         1  ...             0             1                 0\n",
       "740       127.5     3.2         1  ...             0             1                 0\n",
       "741        93.5     3.6         1  ...             0             1                 0\n",
       "\n",
       "[742 rows x 178 columns]"
      ]
     },
     "execution_count": 5,
     "metadata": {},
     "output_type": "execute_result"
    }
   ],
   "source": [
    "# for each type of categorical variable, we will create dummy data\n",
    "\n",
    "df_dummies = pd.get_dummies(df_model)\n",
    "df_dummies"
   ]
  },
  {
   "cell_type": "markdown",
   "id": "aea8850d",
   "metadata": {
    "id": "aea8850d"
   },
   "source": [
    "## Train Test Split"
   ]
  },
  {
   "cell_type": "code",
   "execution_count": null,
   "id": "36bdedb0",
   "metadata": {
    "id": "36bdedb0"
   },
   "outputs": [],
   "source": [
    "from sklearn.model_selection import train_test_split\n",
    "X = df_dummies.drop('avg_salary', axis=1)\n",
    "y = df_dummies['avg_salary'].values # creates a numpy array\n",
    "\n",
    "X_train, X_test, y_train, y_test = train_test_split(X, y, test_size=0.2, random_state=0)\n",
    "# Train --> 80% of data, Test --> 20% of data"
   ]
  },
  {
   "cell_type": "code",
   "execution_count": null,
   "id": "c0a4e0df",
   "metadata": {
    "colab": {
     "base_uri": "https://localhost:8080/"
    },
    "id": "c0a4e0df",
    "outputId": "b58b9f43-f17b-4409-bba6-494f156eb4c7"
   },
   "outputs": [
    {
     "data": {
      "text/plain": [
       "((593, 177), (149, 177), (593,), (149,))"
      ]
     },
     "execution_count": 7,
     "metadata": {},
     "output_type": "execute_result"
    }
   ],
   "source": [
    "X_train.shape, X_test.shape, y_train.shape, y_test.shape"
   ]
  },
  {
   "cell_type": "markdown",
   "id": "ca98ce97",
   "metadata": {
    "id": "ca98ce97"
   },
   "source": [
    "## Multiple Linear Regression"
   ]
  },
  {
   "cell_type": "code",
   "execution_count": null,
   "id": "44f68bb9",
   "metadata": {
    "colab": {
     "base_uri": "https://localhost:8080/"
    },
    "id": "44f68bb9",
    "outputId": "f176f9e4-3d47-4d17-94cb-20bf22cf266d"
   },
   "outputs": [
    {
     "data": {
      "text/plain": [
       "LinearRegression(copy_X=True, fit_intercept=True, n_jobs=None, normalize=False)"
      ]
     },
     "execution_count": 8,
     "metadata": {},
     "output_type": "execute_result"
    }
   ],
   "source": [
    "from sklearn.linear_model import LinearRegression\n",
    "lr_model = LinearRegression()\n",
    "lr_model.fit(X_train,y_train)"
   ]
  },
  {
   "cell_type": "markdown",
   "id": "2736a75e",
   "metadata": {
    "id": "2736a75e"
   },
   "source": [
    "### Scoring parameter with [cross_val_score()](https://scikit-learn.org/stable/modules/generated/sklearn.model_selection.cross_val_score.html#sklearn.model_selection.cross_val_score) - after training model, evaluate model on cross-validation sets"
   ]
  },
  {
   "cell_type": "code",
   "execution_count": null,
   "id": "47e7a262",
   "metadata": {
    "colab": {
     "base_uri": "https://localhost:8080/"
    },
    "id": "47e7a262",
    "outputId": "9af0bc0d-965a-4d11-9a75-4cada031e87c"
   },
   "outputs": [
    {
     "data": {
      "text/plain": [
       "-352776712.54294044"
      ]
     },
     "execution_count": 9,
     "metadata": {},
     "output_type": "execute_result"
    }
   ],
   "source": [
    "from sklearn.model_selection import cross_val_score\n",
    "\n",
    "lr_cross_val_score = np.mean(cross_val_score(lr_model, X_train, y_train, cv=5, scoring='neg_mean_absolute_error'))\n",
    "lr_cross_val_score\n",
    "\n",
    "# A huge negative score --> not a good algorithm for model"
   ]
  },
  {
   "cell_type": "markdown",
   "id": "1e9004c9",
   "metadata": {
    "id": "1e9004c9"
   },
   "source": [
    "## Lasso Regression"
   ]
  },
  {
   "cell_type": "code",
   "execution_count": null,
   "id": "a979c88e",
   "metadata": {
    "colab": {
     "base_uri": "https://localhost:8080/"
    },
    "id": "a979c88e",
    "outputId": "82b996cb-5942-48e0-8fac-da58da6033b9"
   },
   "outputs": [
    {
     "data": {
      "text/plain": [
       "Lasso(alpha=0.06, copy_X=True, fit_intercept=True, max_iter=1000,\n",
       "      normalize=False, positive=False, precompute=False, random_state=None,\n",
       "      selection='cyclic', tol=0.0001, warm_start=False)"
      ]
     },
     "execution_count": 24,
     "metadata": {},
     "output_type": "execute_result"
    }
   ],
   "source": [
    "from sklearn.linear_model import Lasso\n",
    "\n",
    "# 1)\n",
    "# lasso_model = Lasso()\n",
    "# lasso_model.fit(X_train,y_train)\n",
    "\n",
    "# 2) \n",
    "# After finding out best value of alpha\n",
    "lasso_model = Lasso(0.06)\n",
    "lasso_model.fit(X_train,y_train)\n"
   ]
  },
  {
   "cell_type": "code",
   "execution_count": null,
   "id": "c71675c7",
   "metadata": {
    "colab": {
     "base_uri": "https://localhost:8080/"
    },
    "id": "c71675c7",
    "outputId": "d5ac7091-6d9c-40fd-cb45-9037b381f4b6"
   },
   "outputs": [
    {
     "data": {
      "text/plain": [
       "-19.820123427215503"
      ]
     },
     "execution_count": 25,
     "metadata": {},
     "output_type": "execute_result"
    }
   ],
   "source": [
    "lasso_model_val_score = np.mean(cross_val_score(lasso_model, X_train, y_train, cv=5, scoring='neg_mean_absolute_error'))\n",
    "lasso_model_val_score"
   ]
  },
  {
   "cell_type": "code",
   "execution_count": null,
   "id": "b75fa0b0",
   "metadata": {
    "colab": {
     "base_uri": "https://localhost:8080/"
    },
    "id": "b75fa0b0",
    "outputId": "6d2ec598-0027-4e34-d974-1b5a50079a99"
   },
   "outputs": [
    {
     "name": "stderr",
     "output_type": "stream",
     "text": [
      "/usr/local/lib/python3.7/dist-packages/sklearn/linear_model/_coordinate_descent.py:476: ConvergenceWarning: Objective did not converge. You might want to increase the number of iterations. Duality gap: 1003.9349251758249, tolerance: 67.54932953586497\n",
      "  positive)\n"
     ]
    }
   ],
   "source": [
    "# Initially the score is poor, so lets find out the value of alpha that will optimize the model\n",
    "\n",
    "# List of values of alpha and the error associated with it\n",
    "alpha = []\n",
    "error = []\n",
    "\n",
    "# alpha values from 0.1 - 1\n",
    "for i in range(1,100):\n",
    "  val = i/100\n",
    "  alpha.append(val)\n",
    "  lasso_model_test = Lasso(alpha=val)\n",
    "  error.append(np.mean(cross_val_score(lasso_model_test, X_train, y_train, cv=5, scoring='neg_mean_absolute_error')))"
   ]
  },
  {
   "cell_type": "code",
   "execution_count": null,
   "id": "10f30205",
   "metadata": {
    "id": "10f30205"
   },
   "outputs": [],
   "source": [
    "plt.style.use(\"seaborn\")"
   ]
  },
  {
   "cell_type": "code",
   "execution_count": null,
   "id": "87ea7229",
   "metadata": {
    "colab": {
     "base_uri": "https://localhost:8080/",
     "height": 388
    },
    "id": "87ea7229",
    "outputId": "bbd03f67-05c9-4ef4-f028-0686adda2a08"
   },
   "outputs": [
    {
     "data": {
      "image/png": "[encoded data removed]",
      "text/plain": [
       "<Figure size 576x432 with 1 Axes>"
      ]
     },
     "metadata": {},
     "output_type": "display_data"
    }
   ],
   "source": [
    "plt.figure(figsize=(8,6))\n",
    "plt.xlabel(\"Alpha\")\n",
    "plt.ylabel(\"Error\")\n",
    "plt.plot(alpha,error)\n",
    "plt.show()"
   ]
  },
  {
   "cell_type": "code",
   "execution_count": null,
   "id": "FyK4Vs78B1V5",
   "metadata": {
    "id": "FyK4Vs78B1V5"
   },
   "outputs": [],
   "source": [
    "# Join the alpha and error lists together - as a tuple (non iterable list)\n",
    "# in order to find the value of alpha for which neg error is minimun (best error - max())\n",
    "\n",
    "err = tuple(zip(alpha,error))\n",
    "df_err = pd.DataFrame(err, columns= ['alpha','error']) # convert the merged list to a dataframe"
   ]
  },
  {
   "cell_type": "code",
   "execution_count": null,
   "id": "q1BmAPWvPNnX",
   "metadata": {
    "colab": {
     "base_uri": "https://localhost:8080/",
     "height": 203
    },
    "id": "q1BmAPWvPNnX",
    "outputId": "15a2677b-3a8e-4207-bf0d-0c273814a6c3"
   },
   "outputs": [
    {
     "data": {
      "text/html": [
       "<div>\n",
       "<style scoped>\n",
       "    .dataframe tbody tr th:only-of-type {\n",
       "        vertical-align: middle;\n",
       "    }\n",
       "\n",
       "    .dataframe tbody tr th {\n",
       "        vertical-align: top;\n",
       "    }\n",
       "\n",
       "    .dataframe thead th {\n",
       "        text-align: right;\n",
       "    }\n",
       "</style>\n",
       "<table border=\"1\" class=\"dataframe\">\n",
       "  <thead>\n",
       "    <tr style=\"text-align: right;\">\n",
       "      <th></th>\n",
       "      <th>alpha</th>\n",
       "      <th>error</th>\n",
       "    </tr>\n",
       "  </thead>\n",
       "  <tbody>\n",
       "    <tr>\n",
       "      <th>0</th>\n",
       "      <td>0.01</td>\n",
       "      <td>-20.132077</td>\n",
       "    </tr>\n",
       "    <tr>\n",
       "      <th>1</th>\n",
       "      <td>0.02</td>\n",
       "      <td>-19.949703</td>\n",
       "    </tr>\n",
       "    <tr>\n",
       "      <th>2</th>\n",
       "      <td>0.03</td>\n",
       "      <td>-19.885995</td>\n",
       "    </tr>\n",
       "    <tr>\n",
       "      <th>3</th>\n",
       "      <td>0.04</td>\n",
       "      <td>-19.865362</td>\n",
       "    </tr>\n",
       "    <tr>\n",
       "      <th>4</th>\n",
       "      <td>0.05</td>\n",
       "      <td>-19.854649</td>\n",
       "    </tr>\n",
       "  </tbody>\n",
       "</table>\n",
       "</div>"
      ],
      "text/plain": [
       "   alpha      error\n",
       "0   0.01 -20.132077\n",
       "1   0.02 -19.949703\n",
       "2   0.03 -19.885995\n",
       "3   0.04 -19.865362\n",
       "4   0.05 -19.854649"
      ]
     },
     "execution_count": 16,
     "metadata": {},
     "output_type": "execute_result"
    }
   ],
   "source": [
    "df_err.head()"
   ]
  },
  {
   "cell_type": "code",
   "execution_count": null,
   "id": "xGA3U72UPPBw",
   "metadata": {
    "colab": {
     "base_uri": "https://localhost:8080/",
     "height": 80
    },
    "id": "xGA3U72UPPBw",
    "outputId": "66b62e98-a6f7-49d9-8924-c235c79bb696"
   },
   "outputs": [
    {
     "data": {
      "text/html": [
       "<div>\n",
       "<style scoped>\n",
       "    .dataframe tbody tr th:only-of-type {\n",
       "        vertical-align: middle;\n",
       "    }\n",
       "\n",
       "    .dataframe tbody tr th {\n",
       "        vertical-align: top;\n",
       "    }\n",
       "\n",
       "    .dataframe thead th {\n",
       "        text-align: right;\n",
       "    }\n",
       "</style>\n",
       "<table border=\"1\" class=\"dataframe\">\n",
       "  <thead>\n",
       "    <tr style=\"text-align: right;\">\n",
       "      <th></th>\n",
       "      <th>alpha</th>\n",
       "      <th>error</th>\n",
       "    </tr>\n",
       "  </thead>\n",
       "  <tbody>\n",
       "    <tr>\n",
       "      <th>5</th>\n",
       "      <td>0.06</td>\n",
       "      <td>-19.820123</td>\n",
       "    </tr>\n",
       "  </tbody>\n",
       "</table>\n",
       "</div>"
      ],
      "text/plain": [
       "   alpha      error\n",
       "5   0.06 -19.820123"
      ]
     },
     "execution_count": 17,
     "metadata": {},
     "output_type": "execute_result"
    }
   ],
   "source": [
    "df_err[df_err.error == max(df_err.error)]"
   ]
  },
  {
   "cell_type": "markdown",
   "id": "cfi6NFfTPnx9",
   "metadata": {
    "id": "cfi6NFfTPnx9"
   },
   "source": [
    "## Random Forest"
   ]
  },
  {
   "cell_type": "code",
   "execution_count": null,
   "id": "ASRnOOlqPXEt",
   "metadata": {
    "colab": {
     "base_uri": "https://localhost:8080/"
    },
    "id": "ASRnOOlqPXEt",
    "outputId": "a6102b48-9276-4c41-b674-2384b5235d67"
   },
   "outputs": [
    {
     "data": {
      "text/plain": [
       "RandomForestRegressor(bootstrap=True, ccp_alpha=0.0, criterion='mse',\n",
       "                      max_depth=None, max_features='auto', max_leaf_nodes=None,\n",
       "                      max_samples=None, min_impurity_decrease=0.0,\n",
       "                      min_impurity_split=None, min_samples_leaf=1,\n",
       "                      min_samples_split=2, min_weight_fraction_leaf=0.0,\n",
       "                      n_estimators=100, n_jobs=None, oob_score=False,\n",
       "                      random_state=None, verbose=0, warm_start=False)"
      ]
     },
     "execution_count": 18,
     "metadata": {},
     "output_type": "execute_result"
    }
   ],
   "source": [
    "from sklearn.ensemble import RandomForestRegressor\n",
    "rf = RandomForestRegressor()\n",
    "rf.fit(X_train, y_train)"
   ]
  },
  {
   "cell_type": "code",
   "execution_count": null,
   "id": "N1enlaRvP6hL",
   "metadata": {
    "colab": {
     "base_uri": "https://localhost:8080/"
    },
    "id": "N1enlaRvP6hL",
    "outputId": "6df11225-9008-4478-ab40-17f7cb600a4f"
   },
   "outputs": [
    {
     "data": {
      "text/plain": [
       "-13.637602834354078"
      ]
     },
     "execution_count": 19,
     "metadata": {},
     "output_type": "execute_result"
    }
   ],
   "source": [
    "rf_val_score = np.mean(cross_val_score(rf, X_train, y_train, cv=5, scoring='neg_mean_absolute_error'))\n",
    "rf_val_score"
   ]
  },
  {
   "cell_type": "markdown",
   "id": "D0ifPw3QQIrQ",
   "metadata": {
    "id": "D0ifPw3QQIrQ"
   },
   "source": [
    "## Tune Models ( Hyperparameter tuning) with [RandomizedSearchCV](https://scikit-learn.org/stable/modules/generated/sklearn.model_selection.RandomizedSearchCV.html)"
   ]
  },
  {
   "cell_type": "code",
   "execution_count": null,
   "id": "88cyOgT6QHGB",
   "metadata": {
    "colab": {
     "base_uri": "https://localhost:8080/"
    },
    "id": "88cyOgT6QHGB",
    "outputId": "d3b1a98e-e6dd-4008-ea37-cba87da2e0fb"
   },
   "outputs": [
    {
     "name": "stdout",
     "output_type": "stream",
     "text": [
      "Fitting 10 folds for each of 10 candidates, totalling 100 fits\n"
     ]
    },
    {
     "name": "stderr",
     "output_type": "stream",
     "text": [
      "[Parallel(n_jobs=-1)]: Using backend LokyBackend with 2 concurrent workers.\n",
      "[Parallel(n_jobs=-1)]: Done  37 tasks      | elapsed:   10.8s\n",
      "[Parallel(n_jobs=-1)]: Done 100 out of 100 | elapsed:   57.0s finished\n"
     ]
    },
    {
     "data": {
      "text/plain": [
       "RandomizedSearchCV(cv=10, error_score=nan,\n",
       "                   estimator=RandomForestRegressor(bootstrap=True,\n",
       "                                                   ccp_alpha=0.0,\n",
       "                                                   criterion='mse',\n",
       "                                                   max_depth=None,\n",
       "                                                   max_features='auto',\n",
       "                                                   max_leaf_nodes=None,\n",
       "                                                   max_samples=None,\n",
       "                                                   min_impurity_decrease=0.0,\n",
       "                                                   min_impurity_split=None,\n",
       "                                                   min_samples_leaf=1,\n",
       "                                                   min_samples_split=2,\n",
       "                                                   min_weight_fraction_leaf=0.0,\n",
       "                                                   n_estimators=100,\n",
       "                                                   n_jobs=None, oob_score=False,\n",
       "                                                   random_state=None, verbose=0,\n",
       "                                                   warm_start=False),\n",
       "                   iid='deprecated', n_iter=10, n_jobs=-1,\n",
       "                   param_distributions=[{'criterion': ['mse', 'mae'],\n",
       "                                         'max_features': ['auto', 'sqrt',\n",
       "                                                          'log2'],\n",
       "                                         'n_estimators': range(10, 300, 10)}],\n",
       "                   pre_dispatch='2*n_jobs', random_state=None, refit=True,\n",
       "                   return_train_score=False, scoring='neg_mean_absolute_error',\n",
       "                   verbose=2)"
      ]
     },
     "execution_count": 20,
     "metadata": {},
     "output_type": "execute_result"
    }
   ],
   "source": [
    "from sklearn.model_selection import RandomizedSearchCV\n",
    "\n",
    "parameters = [ # list of different combination of hyperparameters that we want to test\n",
    "              {'n_estimators': range(10,300,10), 'criterion': ['mse', 'mae'], 'max_features':['auto','sqrt','log2']}\n",
    "]\n",
    "\n",
    "\n",
    "# Setup \n",
    "random_cv = RandomizedSearchCV(estimator=rf,\n",
    "                            param_distributions=parameters, \n",
    "                            scoring = 'neg_mean_absolute_error', # evaluation metric\n",
    "                            cv=10, # k = 10, no. of k-train test folds (standard)\n",
    "                            n_iter=10, # number of models to try\n",
    "                            verbose=2, # print out the results\n",
    "                            n_jobs = -1,  # set processor of machine. -1 --> means all processor will be in  use \n",
    "                            refit=True) # set refit=True (default) to refit the best model on the full dataset \n",
    "\n",
    "# RandomizedSearchCV is only applied on train set\n",
    "random_cv.fit(X_train, y_train) "
   ]
  },
  {
   "cell_type": "code",
   "execution_count": null,
   "id": "4Eq8Z102VuQU",
   "metadata": {
    "colab": {
     "base_uri": "https://localhost:8080/"
    },
    "id": "4Eq8Z102VuQU",
    "outputId": "941231e0-a63c-4d47-e80e-1ab3e627e461"
   },
   "outputs": [
    {
     "name": "stdout",
     "output_type": "stream",
     "text": [
      "Best Accuracy: -12.69\n",
      "Best Parameters: {'n_estimators': 160, 'max_features': 'auto', 'criterion': 'mse'}\n"
     ]
    }
   ],
   "source": [
    "# get best accuracy, and the set of parameters that led to that best accuracy\n",
    "best_accuracy = random_cv.best_score_\n",
    "best_parameters = random_cv.best_params_\n",
    "print(\"Best Accuracy: {:.2f}\".format(best_accuracy))\n",
    "print(\"Best Parameters:\", best_parameters)\n",
    "\n",
    "# RandomForestRegressor will be refit with best parameters "
   ]
  },
  {
   "cell_type": "code",
   "execution_count": null,
   "id": "RFhDDGMZD1dS",
   "metadata": {
    "colab": {
     "base_uri": "https://localhost:8080/"
    },
    "id": "RFhDDGMZD1dS",
    "outputId": "7ec1b8cb-97a6-4360-bd8a-f62e9898b1e0"
   },
   "outputs": [
    {
     "name": "stdout",
     "output_type": "stream",
     "text": [
      "Best Parameters: RandomForestRegressor(bootstrap=True, ccp_alpha=0.0, criterion='mse',\n",
      "                      max_depth=None, max_features='auto', max_leaf_nodes=None,\n",
      "                      max_samples=None, min_impurity_decrease=0.0,\n",
      "                      min_impurity_split=None, min_samples_leaf=1,\n",
      "                      min_samples_split=2, min_weight_fraction_leaf=0.0,\n",
      "                      n_estimators=160, n_jobs=None, oob_score=False,\n",
      "                      random_state=None, verbose=0, warm_start=False)\n"
     ]
    }
   ],
   "source": [
    "best_estimator = random_cv.best_estimator_\n",
    "print(\"Best Parameters:\", best_estimator)"
   ]
  },
  {
   "cell_type": "markdown",
   "id": "g-tWmq_tCpFO",
   "metadata": {
    "id": "g-tWmq_tCpFO"
   },
   "source": [
    "## Cross Validation Scores of models till now using negative MAE:\n",
    "* Multiple Linear Regression = -352776712.54294044\n",
    "* Lasso Regression = -19.82\n",
    "* Random Forest Regressor = -12.69"
   ]
  },
  {
   "cell_type": "markdown",
   "id": "Fz-htS87WT4a",
   "metadata": {
    "id": "Fz-htS87WT4a"
   },
   "source": [
    "## Prediction on Test Set"
   ]
  },
  {
   "cell_type": "code",
   "execution_count": null,
   "id": "mx-zXfWbBxuP",
   "metadata": {
    "id": "mx-zXfWbBxuP"
   },
   "outputs": [],
   "source": [
    "y_pred_lr = lr_model.predict(X_test)\n",
    "y_pred_lasso = lasso_model.predict(X_test)\n",
    "y_pred_rf = random_cv.best_estimator_.predict(X_test) # rf was tuned"
   ]
  },
  {
   "cell_type": "markdown",
   "id": "Iz1lcbHFEphp",
   "metadata": {
    "id": "Iz1lcbHFEphp"
   },
   "source": [
    "1. ** R^2 or coefficient of determination** - Compares your models predictions to the mean of the targets. Gives a quick insight on how our models predictions are to close to the true predictions\n",
    "\n",
    "2. **Mean absolute error (MAE)** - The average of the absolute differences between predictions and actual values. It gives you an idea of how wrong your predictions were."
   ]
  },
  {
   "cell_type": "code",
   "execution_count": null,
   "id": "N_0KjsGyEXgs",
   "metadata": {
    "colab": {
     "base_uri": "https://localhost:8080/"
    },
    "id": "N_0KjsGyEXgs",
    "outputId": "653a7156-e9e3-4ec6-ff57-a25d9cc57ce2"
   },
   "outputs": [
    {
     "name": "stdout",
     "output_type": "stream",
     "text": [
      "Regression model metrics on the test set:\n"
     ]
    }
   ],
   "source": [
    "from sklearn.metrics import r2_score, mean_absolute_error\n",
    "print(\"Regression model metrics on the test set:\")"
   ]
  },
  {
   "cell_type": "code",
   "execution_count": null,
   "id": "JETC4UpSE_8a",
   "metadata": {
    "colab": {
     "base_uri": "https://localhost:8080/"
    },
    "id": "JETC4UpSE_8a",
    "outputId": "7da896d5-dd18-4a86-c50a-b22069a186aa"
   },
   "outputs": [
    {
     "name": "stdout",
     "output_type": "stream",
     "text": [
      "R^2: -92689775659809.00\n",
      "MAE: 38668910.50\n"
     ]
    }
   ],
   "source": [
    "print(f\"R^2: {r2_score(y_test, y_pred_lr):.2f}\")\n",
    "print(f\"MAE: {mean_absolute_error(y_test, y_pred_lr):.2f}\")\n",
    "\n",
    "# MAE is huge. The difference between the actual and predicted values are great, therfore Linear Regression is not a estimator for our model"
   ]
  },
  {
   "cell_type": "code",
   "execution_count": null,
   "id": "0hjHHTAVFUYk",
   "metadata": {
    "colab": {
     "base_uri": "https://localhost:8080/"
    },
    "id": "0hjHHTAVFUYk",
    "outputId": "9789553d-2f53-40c0-b880-8f24e33cd418"
   },
   "outputs": [
    {
     "name": "stdout",
     "output_type": "stream",
     "text": [
      "R^2: 0.55\n",
      "MAE: 19.09\n"
     ]
    }
   ],
   "source": [
    "print(f\"R^2: {r2_score(y_test, y_pred_lasso):.2f}\")\n",
    "print(f\"MAE: {mean_absolute_error(y_test, y_pred_lasso):.2f}\")"
   ]
  },
  {
   "cell_type": "code",
   "execution_count": null,
   "id": "NWRSnspqFyxO",
   "metadata": {
    "colab": {
     "base_uri": "https://localhost:8080/",
     "height": 417
    },
    "id": "NWRSnspqFyxO",
    "outputId": "7f98ef2b-4ea1-47a8-c60e-a32b2337bcd8"
   },
   "outputs": [
    {
     "data": {
      "text/html": [
       "<div>\n",
       "<style scoped>\n",
       "    .dataframe tbody tr th:only-of-type {\n",
       "        vertical-align: middle;\n",
       "    }\n",
       "\n",
       "    .dataframe tbody tr th {\n",
       "        vertical-align: top;\n",
       "    }\n",
       "\n",
       "    .dataframe thead th {\n",
       "        text-align: right;\n",
       "    }\n",
       "</style>\n",
       "<table border=\"1\" class=\"dataframe\">\n",
       "  <thead>\n",
       "    <tr style=\"text-align: right;\">\n",
       "      <th></th>\n",
       "      <th>actual values</th>\n",
       "      <th>predicted values</th>\n",
       "      <th>differences</th>\n",
       "    </tr>\n",
       "  </thead>\n",
       "  <tbody>\n",
       "    <tr>\n",
       "      <th>0</th>\n",
       "      <td>48.5</td>\n",
       "      <td>66.290004</td>\n",
       "      <td>17.790004</td>\n",
       "    </tr>\n",
       "    <tr>\n",
       "      <th>1</th>\n",
       "      <td>133.0</td>\n",
       "      <td>154.810587</td>\n",
       "      <td>21.810587</td>\n",
       "    </tr>\n",
       "    <tr>\n",
       "      <th>2</th>\n",
       "      <td>113.5</td>\n",
       "      <td>129.485889</td>\n",
       "      <td>15.985889</td>\n",
       "    </tr>\n",
       "    <tr>\n",
       "      <th>3</th>\n",
       "      <td>96.0</td>\n",
       "      <td>87.880081</td>\n",
       "      <td>-8.119919</td>\n",
       "    </tr>\n",
       "    <tr>\n",
       "      <th>4</th>\n",
       "      <td>95.0</td>\n",
       "      <td>100.301176</td>\n",
       "      <td>5.301176</td>\n",
       "    </tr>\n",
       "    <tr>\n",
       "      <th>...</th>\n",
       "      <td>...</td>\n",
       "      <td>...</td>\n",
       "      <td>...</td>\n",
       "    </tr>\n",
       "    <tr>\n",
       "      <th>144</th>\n",
       "      <td>97.5</td>\n",
       "      <td>95.756707</td>\n",
       "      <td>-1.743293</td>\n",
       "    </tr>\n",
       "    <tr>\n",
       "      <th>145</th>\n",
       "      <td>133.5</td>\n",
       "      <td>136.913088</td>\n",
       "      <td>3.413088</td>\n",
       "    </tr>\n",
       "    <tr>\n",
       "      <th>146</th>\n",
       "      <td>15.5</td>\n",
       "      <td>85.801541</td>\n",
       "      <td>70.301541</td>\n",
       "    </tr>\n",
       "    <tr>\n",
       "      <th>147</th>\n",
       "      <td>99.0</td>\n",
       "      <td>106.559758</td>\n",
       "      <td>7.559758</td>\n",
       "    </tr>\n",
       "    <tr>\n",
       "      <th>148</th>\n",
       "      <td>80.5</td>\n",
       "      <td>74.693151</td>\n",
       "      <td>-5.806849</td>\n",
       "    </tr>\n",
       "  </tbody>\n",
       "</table>\n",
       "<p>149 rows × 3 columns</p>\n",
       "</div>"
      ],
      "text/plain": [
       "     actual values  predicted values  differences\n",
       "0             48.5         66.290004    17.790004\n",
       "1            133.0        154.810587    21.810587\n",
       "2            113.5        129.485889    15.985889\n",
       "3             96.0         87.880081    -8.119919\n",
       "4             95.0        100.301176     5.301176\n",
       "..             ...               ...          ...\n",
       "144           97.5         95.756707    -1.743293\n",
       "145          133.5        136.913088     3.413088\n",
       "146           15.5         85.801541    70.301541\n",
       "147           99.0        106.559758     7.559758\n",
       "148           80.5         74.693151    -5.806849\n",
       "\n",
       "[149 rows x 3 columns]"
      ]
     },
     "execution_count": 37,
     "metadata": {},
     "output_type": "execute_result"
    }
   ],
   "source": [
    "df_lasso = pd.DataFrame(\n",
    "    data={\"actual values\":y_test,\n",
    "         \"predicted values\":y_pred_lasso\n",
    "         })\n",
    "df_lasso[\"differences\"] = df_lasso[\"predicted values\"] - df_lasso[\"actual values\"]\n",
    "df_lasso"
   ]
  },
  {
   "cell_type": "code",
   "execution_count": null,
   "id": "lVjjrjTYF9DA",
   "metadata": {
    "colab": {
     "base_uri": "https://localhost:8080/",
     "height": 389
    },
    "id": "lVjjrjTYF9DA",
    "outputId": "571f817d-9789-4d56-99c7-3fbc2bf34d8e"
   },
   "outputs": [
    {
     "data": {
      "image/png": "[encoded data removed]",
      "text/plain": [
       "<Figure size 720x432 with 1 Axes>"
      ]
     },
     "metadata": {},
     "output_type": "display_data"
    }
   ],
   "source": [
    "plt.figure(figsize=(10,6))\n",
    "\n",
    "# np.arange() - Return evenly spaced values within a given interval.\n",
    "x = np.arange(0,len(df_lasso),1)\n",
    "\n",
    "# scatter(x,y) --> x and y must be of equal length\n",
    "plt.title(\"Lasso Regression\")\n",
    "plt.scatter(x, df_lasso[\"actual values\"], c='b', label=\"Actual Values\")\n",
    "plt.scatter(x, df_lasso[\"predicted values\"], c='r', label=\"Predictions\")\n",
    "plt.legend()\n",
    "plt.show();"
   ]
  },
  {
   "cell_type": "code",
   "execution_count": null,
   "id": "fNssW95kGL3R",
   "metadata": {
    "colab": {
     "base_uri": "https://localhost:8080/"
    },
    "id": "fNssW95kGL3R",
    "outputId": "c9d8b16d-1e6c-4bff-e7cc-52cd32c080b8"
   },
   "outputs": [
    {
     "name": "stdout",
     "output_type": "stream",
     "text": [
      "R^2: 0.69\n",
      "MAE: 12.20\n"
     ]
    }
   ],
   "source": [
    "print(f\"R^2: {r2_score(y_test, y_pred_rf):.2f}\")\n",
    "print(f\"MAE: {mean_absolute_error(y_test, y_pred_rf):.2f}\")"
   ]
  },
  {
   "cell_type": "code",
   "execution_count": null,
   "id": "ydArDP77Gn03",
   "metadata": {
    "colab": {
     "base_uri": "https://localhost:8080/",
     "height": 417
    },
    "id": "ydArDP77Gn03",
    "outputId": "b5e5c37a-d392-4389-af2f-3f888f5a05c6"
   },
   "outputs": [
    {
     "data": {
      "text/html": [
       "<div>\n",
       "<style scoped>\n",
       "    .dataframe tbody tr th:only-of-type {\n",
       "        vertical-align: middle;\n",
       "    }\n",
       "\n",
       "    .dataframe tbody tr th {\n",
       "        vertical-align: top;\n",
       "    }\n",
       "\n",
       "    .dataframe thead th {\n",
       "        text-align: right;\n",
       "    }\n",
       "</style>\n",
       "<table border=\"1\" class=\"dataframe\">\n",
       "  <thead>\n",
       "    <tr style=\"text-align: right;\">\n",
       "      <th></th>\n",
       "      <th>actual values</th>\n",
       "      <th>predicted values</th>\n",
       "      <th>differences</th>\n",
       "    </tr>\n",
       "  </thead>\n",
       "  <tbody>\n",
       "    <tr>\n",
       "      <th>0</th>\n",
       "      <td>48.5</td>\n",
       "      <td>53.906250</td>\n",
       "      <td>5.406250</td>\n",
       "    </tr>\n",
       "    <tr>\n",
       "      <th>1</th>\n",
       "      <td>133.0</td>\n",
       "      <td>118.025000</td>\n",
       "      <td>-14.975000</td>\n",
       "    </tr>\n",
       "    <tr>\n",
       "      <th>2</th>\n",
       "      <td>113.5</td>\n",
       "      <td>112.287500</td>\n",
       "      <td>-1.212500</td>\n",
       "    </tr>\n",
       "    <tr>\n",
       "      <th>3</th>\n",
       "      <td>96.0</td>\n",
       "      <td>97.115625</td>\n",
       "      <td>1.115625</td>\n",
       "    </tr>\n",
       "    <tr>\n",
       "      <th>4</th>\n",
       "      <td>95.0</td>\n",
       "      <td>96.946875</td>\n",
       "      <td>1.946875</td>\n",
       "    </tr>\n",
       "    <tr>\n",
       "      <th>...</th>\n",
       "      <td>...</td>\n",
       "      <td>...</td>\n",
       "      <td>...</td>\n",
       "    </tr>\n",
       "    <tr>\n",
       "      <th>144</th>\n",
       "      <td>97.5</td>\n",
       "      <td>87.181250</td>\n",
       "      <td>-10.318750</td>\n",
       "    </tr>\n",
       "    <tr>\n",
       "      <th>145</th>\n",
       "      <td>133.5</td>\n",
       "      <td>139.331250</td>\n",
       "      <td>5.831250</td>\n",
       "    </tr>\n",
       "    <tr>\n",
       "      <th>146</th>\n",
       "      <td>15.5</td>\n",
       "      <td>91.190625</td>\n",
       "      <td>75.690625</td>\n",
       "    </tr>\n",
       "    <tr>\n",
       "      <th>147</th>\n",
       "      <td>99.0</td>\n",
       "      <td>104.856250</td>\n",
       "      <td>5.856250</td>\n",
       "    </tr>\n",
       "    <tr>\n",
       "      <th>148</th>\n",
       "      <td>80.5</td>\n",
       "      <td>80.259375</td>\n",
       "      <td>-0.240625</td>\n",
       "    </tr>\n",
       "  </tbody>\n",
       "</table>\n",
       "<p>149 rows × 3 columns</p>\n",
       "</div>"
      ],
      "text/plain": [
       "     actual values  predicted values  differences\n",
       "0             48.5         53.906250     5.406250\n",
       "1            133.0        118.025000   -14.975000\n",
       "2            113.5        112.287500    -1.212500\n",
       "3             96.0         97.115625     1.115625\n",
       "4             95.0         96.946875     1.946875\n",
       "..             ...               ...          ...\n",
       "144           97.5         87.181250   -10.318750\n",
       "145          133.5        139.331250     5.831250\n",
       "146           15.5         91.190625    75.690625\n",
       "147           99.0        104.856250     5.856250\n",
       "148           80.5         80.259375    -0.240625\n",
       "\n",
       "[149 rows x 3 columns]"
      ]
     },
     "execution_count": 46,
     "metadata": {},
     "output_type": "execute_result"
    }
   ],
   "source": [
    "df_rf = pd.DataFrame(\n",
    "    data={\"actual values\":y_test,\n",
    "         \"predicted values\":y_pred_rf\n",
    "         })\n",
    "df_rf[\"differences\"] = df_rf[\"predicted values\"] - df_rf[\"actual values\"]\n",
    "df_rf"
   ]
  },
  {
   "cell_type": "code",
   "execution_count": 49,
   "id": "bxpek9FLGvzv",
   "metadata": {
    "colab": {
     "base_uri": "https://localhost:8080/",
     "height": 389
    },
    "id": "bxpek9FLGvzv",
    "outputId": "0a1553d5-eaf9-4d7d-c97d-02316f5fcbf8"
   },
   "outputs": [
    {
     "data": {
      "image/png": "[encoded data removed]",
      "text/plain": [
       "<Figure size 720x432 with 1 Axes>"
      ]
     },
     "metadata": {},
     "output_type": "display_data"
    }
   ],
   "source": [
    "plt.figure(figsize=(10,6))\n",
    "\n",
    "# np.arange() - Return evenly spaced values within a given interval.\n",
    "x = np.arange(0,len(df_rf),1)\n",
    "\n",
    "# scatter(x,y) --> x and y must be of equal length\n",
    "plt.title(\"Random Forest Regressor\")\n",
    "plt.scatter(x, df_rf[\"actual values\"], c='b', label=\"Actual Values\")\n",
    "plt.scatter(x, df_rf[\"predicted values\"], c='r', label=\"Predictions\")\n",
    "plt.legend()\n",
    "plt.show();"
   ]
  },
  {
   "cell_type": "markdown",
   "id": "7X1QbKUcHPHT",
   "metadata": {
    "id": "7X1QbKUcHPHT"
   },
   "source": [
    "## Save the Model with [Pickle](https://docs.python.org/3/library/pickle.html)\n",
    "\n"
   ]
  },
  {
   "cell_type": "code",
   "execution_count": 60,
   "id": "Pkb2jZbRG4mS",
   "metadata": {
    "id": "Pkb2jZbRG4mS"
   },
   "outputs": [],
   "source": [
    "# Save the RandomForestRegressor model that was tuned\n",
    "\n",
    "import pickle\n",
    "\n",
    "rf_pickle = {'model': random_cv.best_estimator_}\n",
    "pickle.dump(rf_pickle,open(\"models/model_file.pkl\",\"wb\")) # .pkl --> pickle file\n",
    "# \"wb\" string which stands for \"write binary\""
   ]
  },
  {
   "cell_type": "markdown",
   "id": "kpEqmP6ILM9_",
   "metadata": {
    "id": "kpEqmP6ILM9_"
   },
   "source": [
    "## Load the Model with [Pickle](https://docs.python.org/3/library/pickle.html)\n"
   ]
  },
  {
   "cell_type": "code",
   "execution_count": 61,
   "id": "UEfzHjdLJ_SQ",
   "metadata": {
    "id": "UEfzHjdLJ_SQ"
   },
   "outputs": [],
   "source": [
    "# rb -> read binary\n",
    "file_name = \"models/model_file.pkl\"\n",
    "with open(file_name, 'rb') as pickled:\n",
    "    data = pickle.load(pickled)\n",
    "    loaded_model = data['model']"
   ]
  },
  {
   "cell_type": "code",
   "execution_count": 62,
   "id": "-SstwzY4KX8h",
   "metadata": {
    "id": "-SstwzY4KX8h"
   },
   "outputs": [],
   "source": [
    "pickle_y_preds = loaded_model.predict(X_test) # Check if the model is loaded"
   ]
  },
  {
   "cell_type": "code",
   "execution_count": 63,
   "id": "12fz4lIYKbaT",
   "metadata": {
    "colab": {
     "base_uri": "https://localhost:8080/"
    },
    "id": "12fz4lIYKbaT",
    "outputId": "c8b5f2ba-eafb-4e7c-c9a1-9f5e0ae96e1f"
   },
   "outputs": [
    {
     "name": "stdout",
     "output_type": "stream",
     "text": [
      "R^2: 0.69\n",
      "MAE: 12.20\n"
     ]
    }
   ],
   "source": [
    "print(f\"R^2: {r2_score(y_test, pickle_y_preds):.2f}\") # Make some predictions\n",
    "print(f\"MAE: {mean_absolute_error(y_test, pickle_y_preds):.2f}\")"
   ]
  }
 ],
 "metadata": {
  "colab": {
   "collapsed_sections": [],
   "name": "model_building.ipynb",
   "provenance": []
  },
  "kernelspec": {
   "display_name": "Python 3 (ipykernel)",
   "language": "python",
   "name": "python3"
  },
  "language_info": {
   "codemirror_mode": {
    "name": "ipython",
    "version": 3
   },
   "file_extension": ".py",
   "mimetype": "text/x-python",
   "name": "python",
   "nbconvert_exporter": "python",
   "pygments_lexer": "ipython3",
   "version": "3.9.7"
  }
 },
 "nbformat": 4,
 "nbformat_minor": 5
}
